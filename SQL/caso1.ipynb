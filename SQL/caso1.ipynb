{
 "cells": [
  {
   "cell_type": "code",
   "execution_count": 1,
   "metadata": {},
   "outputs": [
    {
     "name": "stdout",
     "output_type": "stream",
     "text": [
      "[(1, 'Alberto Garcia', '611222333', 'albertog@gmail.com'), (2, 'Luis Cara\\n', '612222333', 'Luis@gmail.com'), (3, 'Sergio Lopez', '613222333', 'sergio@gmail.com'), (4, 'Alberto Bravo', '614222333', 'albertob@gmail.com')]\n",
      "[(1, 'Alberto Garcia', '611222333', 'albertog@gmail.com'), (2, 'Luis Cara\\n', '612222333', 'Luis@gmail.com')]\n",
      "[(4, 'Alberto Bravo', '614222333', 'albertob@gmail.com'), (1, 'Alberto Garcia', '611222333', 'albertog@gmail.com'), (2, 'Luis Cara\\n', '612222333', 'Luis@gmail.com'), (3, 'Sergio Lopez', '613222333', 'sergio@gmail.com')]\n",
      "[(1, 'Master', 'IA', 'estadistica', '01.01.25', '01.06.25', 1), (2, 'Master', 'IA', 'Python', '01.01.25', '01.06.25', 2), (3, 'Master', 'IA', 'SQL', '01.01.25', '01.06.25', 3)]\n",
      "[('Master', 'IA', 1, 'Julio Valero'), ('Master', 'IA', 2, 'Leo Barrientos'), ('Master', 'IA', 3, 'Rodrigo Aguilar'), ('Curso', 'Ciberseguridad', 4, 'Pamela Castro'), ('Curos\\n', 'Programacion', 2, 'Leo Barrientos')]\n",
      "('Master', 'IA', 'Julio Valero', 'Alberto Garcia')\n",
      "('Master', 'IA', 'Julio Valero', 'Luis Cara\\n')\n",
      "('Master', 'IA', 'Julio Valero', 'Sergio Lopez')\n",
      "   id_alumno          nombre   telefono               email\n",
      "0          1  Alberto Garcia  611222333  albertog@gmail.com\n",
      "1          2     Luis Cara\\n  612222333      Luis@gmail.com\n",
      "2          3    Sergio Lopez  613222333    sergio@gmail.com\n",
      "3          4   Alberto Bravo  614222333  albertob@gmail.com\n",
      "('Alberto Garcia', 'Julio Valero', 1, 1)\n",
      "('Luis Cara\\n', 'Julio Valero', 1, 2)\n",
      "('Sergio Lopez', 'Julio Valero', 1, 3)\n"
     ]
    }
   ],
   "source": [
    "import sqlite3\n",
    "import pandas as pd\n",
    "\n",
    "# Conectar a la base de datos\n",
    "conn = sqlite3.connect('bbdd_evolve.db')\n",
    "\n",
    "# Crear un cursor\n",
    "cursor = conn.cursor()\n",
    "\n",
    "cursor.execute(\"SELECT * FROM T_ALUMNOS\") # el asterisco signica que se seleccionan todos los campos\n",
    "alumnos = cursor.fetchall() # fetchall() devuelve una lista con los registros obtenidos\n",
    "print(alumnos)\n",
    "\n",
    "cursor.execute(\"SELECT * FROM T_ALUMNOS LIMIT 2\") # LIMIT 2 limita el número de registros a 2\n",
    "alumnos = cursor.fetchall()\n",
    "print(alumnos)\n",
    "\n",
    "cursor.execute(\"SELECT * FROM T_ALUMNOS ORDER BY Nombre\") # ORDER BY Name ordena los registros por el campo Name\n",
    "alumnos = cursor.fetchall()\n",
    "print(alumnos)\n",
    "\n",
    "cursor.execute(\"SELECT * FROM T_CURSOS WHERE categoria_curso = 'Master' and subcategoria_curso = 'IA'\") # WHERE filtra los registros por los campos indicados\n",
    "cursos = cursor.fetchall()\n",
    "print(cursos) \n",
    "\n",
    "cursor.execute(\"\"\"SELECT \n",
    "               T_CURSOS.categoria_curso, T_CURSOS.subcategoria_curso, T_CURSOS.id_profesor,\n",
    "               T_PROFESORES.nombre_profesor\n",
    "               FROM T_CURSOS, T_PROFESORES\n",
    "               WHERE T_CURSOS.id_profesor = T_PROFESORES.id_profesor \"\"\") # WHERE filtra los registros por los campos indicados y se pueden hacer consultas en varias tablas a la vez \n",
    "alumnos = cursor.fetchall()\n",
    "print(alumnos) # se obtiene una lista de tuplas con los registros obtenidos \n",
    "\n",
    "cursor.execute(\"\"\"SELECT \n",
    "               T_CURSOS.categoria_curso, T_CURSOS.subcategoria_curso,\n",
    "               T_PROFESORES.nombre_profesor,\n",
    "               T_ALUMNOS.nombre\n",
    "               FROM T_CURSOS, T_PROFESORES, T_MATRICULAS, T_ALUMNOS\n",
    "               WHERE T_CURSOS.id_profesor = T_PROFESORES.id_profesor\n",
    "               AND T_MATRICULAS.id_curso = T_CURSOS.id_curso\n",
    "               AND T_MATRICULAS.id_alumno = T_ALUMNOS.id_alumno\"\"\")\n",
    "alumnos = cursor.fetchall() # se obtiene una lista de tuplas con los registros obtenidos con los campos seleccionados\n",
    "for alumno in alumnos:\n",
    "    print(alumno)\n",
    "\n",
    "# Crear un DataFrame de Pandas\n",
    "df = pd.read_sql_query(\"SELECT * FROM T_ALUMNOS\", conn) # se puede hacer una consulta a la base de datos y cargarla en un DataFrame\n",
    "print(df)\n",
    "\n",
    "cursor.execute(\"\"\"SELECT \n",
    "               T_ALUMNOS.nombre, \n",
    "               T_PROFESORES.nombre_profesor,\n",
    "               T_CURSOS.id_profesor,\n",
    "               T_MATRICULAS.id_alumno\n",
    "               FROM T_ALUMNOS, T_PROFESORES, T_CURSOS, T_MATRICULAS\n",
    "               WHERE T_ALUMNOS.id_alumno = T_MATRICULAS.id_alumno\n",
    "               AND T_MATRICULAS.id_curso = T_CURSOS.id_curso\n",
    "               AND T_CURSOS.id_profesor = T_PROFESORES.id_profesor and nombre_profesor = 'Julio Valero'\"\"\")\n",
    "alumnos = cursor.fetchall()\n",
    "for alumno in alumnos:\n",
    "    print(alumno)\n",
    "\n",
    "# Cierra la conexión\n",
    "conn.close() # es importante cerrar la conexión para liberar los recursos de la base de datos"
   ]
  },
  {
   "cell_type": "code",
   "execution_count": null,
   "metadata": {},
   "outputs": [],
   "source": []
  }
 ],
 "metadata": {
  "kernelspec": {
   "display_name": "class_019-fqOOlDuZ",
   "language": "python",
   "name": "python3"
  },
  "language_info": {
   "codemirror_mode": {
    "name": "ipython",
    "version": 3
   },
   "file_extension": ".py",
   "mimetype": "text/x-python",
   "name": "python",
   "nbconvert_exporter": "python",
   "pygments_lexer": "ipython3",
   "version": "3.12.9"
  }
 },
 "nbformat": 4,
 "nbformat_minor": 2
}
