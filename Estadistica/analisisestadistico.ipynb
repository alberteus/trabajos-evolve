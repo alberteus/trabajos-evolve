{
 "cells": [
  {
   "cell_type": "markdown",
   "metadata": {
    "id": "PWhqIeowKjEI"
   },
   "source": [
    "# Proyecto Integrado: Análisis Estadístico de Datos\n",
    "\n",
    "En este proyecto integrarás los conceptos de estadística descriptiva y probabilidad analizando un conjunto de datos real sobre ventas de una tienda online."
   ]
  },
  {
   "cell_type": "code",
   "execution_count": null,
   "metadata": {
    "executionInfo": {
     "elapsed": 8,
     "status": "ok",
     "timestamp": 1740503865643,
     "user": {
      "displayName": "Alberto Garcia",
      "userId": "14565765726986632934"
     },
     "user_tz": -60
    },
    "id": "JlgqF8qLLrxV"
   },
   "outputs": [],
   "source": [
    "import numpy as np\n",
    "import pandas as pd\n",
    "import matplotlib.pyplot as plt\n",
    "import seaborn as sns\n",
    "from scipy import stats\n",
    "\n",
    "# Configuración para gráficos\n",
    "plt.style.use('seaborn-v0_8-whitegrid')\n",
    "plt.rcParams['figure.figsize'] = (10, 6)\n",
    "plt.rcParams['font.size'] = 12\n",
    "\n",
    "# Configurar para mostrar los gráficos en el notebook\n",
    "%matplotlib inline\n",
    "\n",
    "# Semilla para reproducibilidad\n",
    "np.random.seed(42)"
   ]
  },
  {
   "cell_type": "markdown",
   "metadata": {
    "id": "PU4ujLk1LuMQ"
   },
   "source": [
    "## Parte 1: Carga y Exploración Inicial de Datos"
   ]
  },
  {
   "cell_type": "code",
   "execution_count": null,
   "metadata": {
    "colab": {
     "base_uri": "https://localhost:8080/",
     "height": 657
    },
    "executionInfo": {
     "elapsed": 548,
     "status": "ok",
     "timestamp": 1740505121482,
     "user": {
      "displayName": "Alberto Garcia",
      "userId": "14565765726986632934"
     },
     "user_tz": -60
    },
    "id": "WbXuE563Lv0r",
    "outputId": "7ea55afd-b7a6-424a-c0ca-128d320d3acb"
   },
   "outputs": [],
   "source": [
    "# Generemos un dataset sintético para el proyecto\n",
    "# (En un caso real, cargarías tus datos desde un archivo CSV)\n",
    "\n",
    "# Crear fechas para un período de 3 meses\n",
    "fechas = pd.date_range(start='2023-01-01', end='2023-03-31', freq='D')\n",
    "\n",
    "# Número de transacciones por día (entre 50 y 100)\n",
    "n_transacciones_por_dia = np.random.randint(50, 100, size=len(fechas))\n",
    "\n",
    "# Inicializar listas para almacenar datos\n",
    "todas_fechas = []\n",
    "todos_productos = []\n",
    "todas_categorias = []\n",
    "todos_precios = []\n",
    "todas_cantidades = []\n",
    "todos_clientes = []\n",
    "todas_valoraciones = []\n",
    "\n",
    "# Categorías de productos y rangos de precios\n",
    "categorias = {\n",
    "    'Electrónica': ['Smartphone', 'Laptop', 'Tablet', 'Auriculares', 'Smartwatch'],\n",
    "    'Ropa': ['Camiseta', 'Pantalón', 'Vestido', 'Chaqueta', 'Zapatos'],\n",
    "    'Hogar': ['Lámpara', 'Sofá', 'Mesa', 'Estantería', 'Utensilios de cocina']\n",
    "}\n",
    "\n",
    "precios_base = {\n",
    "    'Smartphone': 300, 'Laptop': 800, 'Tablet': 200, 'Auriculares': 50, 'Smartwatch': 150,\n",
    "    'Camiseta': 20, 'Pantalón': 40, 'Vestido': 50, 'Chaqueta': 70, 'Zapatos': 60,\n",
    "    'Lámpara': 35, 'Sofá': 450, 'Mesa': 120, 'Estantería': 80, 'Utensilios de cocina': 25\n",
    "}\n",
    "\n",
    "# Generar transacciones\n",
    "for i, fecha in enumerate(fechas):\n",
    "    n_trans = n_transacciones_por_dia[i]\n",
    "\n",
    "    for _ in range(n_trans):\n",
    "        # Seleccionar categoría y producto\n",
    "        categoria = np.random.choice(list(categorias.keys()))\n",
    "        producto = np.random.choice(categorias[categoria])\n",
    "\n",
    "        # Generar precio con variación aleatoria\n",
    "        precio_base = precios_base[producto]\n",
    "        precio = np.random.normal(precio_base, precio_base * 0.1)\n",
    "        precio = max(precio, precio_base * 0.8)  # Asegurar precio mínimo\n",
    "\n",
    "        # Generar cantidad (mayormente 1, a veces más)\n",
    "        cantidad = np.random.choice([1, 1, 1, 2, 2, 3], p=[0.6, 0.2, 0.1, 0.05, 0.03, 0.02])\n",
    "\n",
    "        # Generar ID de cliente (entre 1000 y 2000)\n",
    "        cliente = np.random.randint(1000, 2000)\n",
    "\n",
    "        # Generar valoración (1-5, con tendencia a valoraciones más altas)\n",
    "        valoracion = np.random.choice([1, 2, 3, 4, 5], p=[0.05, 0.1, 0.15, 0.3, 0.4])\n",
    "\n",
    "        # Agregar datos a las listas\n",
    "        todas_fechas.append(fecha)\n",
    "        todos_productos.append(producto)\n",
    "        todas_categorias.append(categoria)\n",
    "        todos_precios.append(round(precio, 2))\n",
    "        todas_cantidades.append(cantidad)\n",
    "        todos_clientes.append(cliente)\n",
    "        todas_valoraciones.append(valoracion)\n",
    "\n",
    "# Crear DataFrame\n",
    "df_ventas = pd.DataFrame({\n",
    "    'fecha': todas_fechas,\n",
    "    'producto': todos_productos,\n",
    "    'categoria': todas_categorias,\n",
    "    'precio': todos_precios,\n",
    "    'cantidad': todas_cantidades,\n",
    "    'cliente_id': todos_clientes,\n",
    "    'valoracion': todas_valoraciones\n",
    "})\n",
    "\n",
    "# Calcular total por transacción\n",
    "df_ventas['total'] = df_ventas['precio'] * df_ventas['cantidad']\n",
    "\n",
    "# Mostrar las primeras filas del DataFrame\n",
    "print(\"Dataset de Ventas - Primeras 10 filas:\")\n",
    "df_ventas.head(10)\n",
    "\n",
    "# Información general del dataset\n",
    "print(\"\\nInformación del dataset:\")\n",
    "df_ventas.info()\n",
    "\n",
    "print(\"\\nEstadísticas descriptivas básicas:\")\n",
    "df_ventas.describe()"
   ]
  },
  {
   "cell_type": "markdown",
   "metadata": {
    "id": "AEr-s2ZtL1-t"
   },
   "source": [
    "## Parte 2: Análisis de Tendencia Central y Dispersión"
   ]
  },
  {
   "cell_type": "code",
   "execution_count": null,
   "metadata": {
    "colab": {
     "base_uri": "https://localhost:8080/"
    },
    "executionInfo": {
     "elapsed": 12,
     "status": "ok",
     "timestamp": 1740503871432,
     "user": {
      "displayName": "Alberto Garcia",
      "userId": "14565765726986632934"
     },
     "user_tz": -60
    },
    "id": "4exmXzbvL396",
    "outputId": "fe190478-1759-4d45-815a-4411212205aa"
   },
   "outputs": [],
   "source": [
    "# EJERCICIO 1: Cálculo de media, mediana y moda para precios y valoraciones\n",
    "\n",
    "# Calcular medidas estadísticas para precios\n",
    "# La media es el promedio de todos los precios.\n",
    "media_precio = df_ventas['precio'].mean()\n",
    "\n",
    "# La mediana es el valor central cuando los precios están ordenados.\n",
    "mediana_precio = df_ventas['precio'].median()\n",
    "\n",
    "# La moda es el valor que más se repite en los precios. [0] selecciona el primer valor si hay múltiples modas.\n",
    "moda_precio = df_ventas['precio'].mode()[0]\n",
    "\n",
    "# Calcular medidas estadísticas para valoraciones\n",
    "# La media de las valoraciones indica el promedio de las puntuaciones de los clientes.\n",
    "media_valoracion = df_ventas['valoracion'].mean()\n",
    "\n",
    "# La mediana es el valor que divide a las valoraciones en dos partes iguales cuando están ordenadas.\n",
    "mediana_valoracion = df_ventas['valoracion'].median()\n",
    "\n",
    "# La moda es el valor de valoración que más veces se repite.\n",
    "moda_valoracion = df_ventas['valoracion'].mode()[0]\n",
    "\n",
    "# Mostrar resultados\n",
    "# Mostrar las medidas de tendencia central para precios\n",
    "print(\"\\nMedidas para Precios:\")\n",
    "print(f\"Media: {media_precio:.2f}, Mediana: {mediana_precio:.2f}, Moda: {moda_precio}\")\n",
    "\n",
    "# Mostrar las medidas de tendencia central para valoraciones\n",
    "print(\"\\nMedidas para Valoraciones:\")\n",
    "print(f\"Media: {media_valoracion:.2f}, Mediana: {mediana_valoracion:.2f}, Moda: {moda_valoracion}\")\n",
    "\n",
    "# Interpretación de los resultados\n",
    "print(\"\\nInterpretación:\")\n",
    "\n",
    "# Análisis de la distribución de los precios comparando la media y la mediana\n",
    "if media_precio > mediana_precio:\n",
    "    print(\"- Los precios tienen una distribución sesgada a la derecha (mayoría de precios bajos, pero algunos muy altos).\")\n",
    "elif media_precio < mediana_precio:\n",
    "    print(\"- Los precios tienen una distribución sesgada a la izquierda (mayoría de precios altos, pero algunos muy bajos).\")\n",
    "else:\n",
    "    print(\"- La distribución de los precios es simétrica.\")\n",
    "\n",
    "# Análisis de la distribución de las valoraciones comparando la media y la mediana\n",
    "if media_valoracion > mediana_valoracion:\n",
    "    print(\"- La mayoría de los clientes dan buenas valoraciones, pero hay algunas bajas que reducen la media.\")\n",
    "elif media_valoracion < mediana_valoracion:\n",
    "    print(\"- Hay una tendencia a valoraciones bajas con algunas excepciones de puntuaciones altas.\")\n",
    "else:\n",
    "    print(\"- La distribución de las valoraciones es equilibrada.\")"
   ]
  },
  {
   "cell_type": "code",
   "execution_count": null,
   "metadata": {
    "colab": {
     "base_uri": "https://localhost:8080/"
    },
    "executionInfo": {
     "elapsed": 9,
     "status": "ok",
     "timestamp": 1740503873944,
     "user": {
      "displayName": "Alberto Garcia",
      "userId": "14565765726986632934"
     },
     "user_tz": -60
    },
    "id": "EcjyKVnBMIfm",
    "outputId": "ad84c4de-888f-4bf6-a256-7441ca0628bd"
   },
   "outputs": [],
   "source": [
    "# EJERCICIO 2: Calcula la desviación estándar de los precios por categoría.\n",
    "# ¿Qué categoría tiene mayor variabilidad en precios? ¿Por qué crees que ocurre esto?\n",
    "\n",
    "# Calcular la desviación estándar de los precios por categoría\n",
    "# Agrupamos el DataFrame por la columna 'categoria' y calculamos la desviación estándar de los precios dentro de cada grupo.\n",
    "desviacion_precios = df_ventas.groupby('categoria')['precio'].std()\n",
    "\n",
    "# Mostrar resultados\n",
    "# Imprimimos la desviación estándar de los precios por cada categoría para ver la variabilidad de precios.\n",
    "print(\"\\nDesviación estándar de precios por categoría:\")\n",
    "print(desviacion_precios)\n",
    "\n",
    "# Identificar la categoría con mayor variabilidad\n",
    "# Utilizamos el método idxmax() para obtener el nombre de la categoría con la mayor desviación estándar,\n",
    "# y el método max() para obtener el valor de esa desviación estándar.\n",
    "categoria_mayor_var = desviacion_precios.idxmax()\n",
    "valor_mayor_var = desviacion_precios.max()\n",
    "\n",
    "# Imprimir el resultado de la categoría con mayor variabilidad\n",
    "print(f\"\\nLa categoría con mayor variabilidad en precios es: {categoria_mayor_var} con una desviación estándar de {valor_mayor_var:.2f}\")\n",
    "\n",
    "# 🔹 Interpretación de la Variabilidad\n",
    "print(\"\\n📌 Interpretación de la Variabilidad:\")\n",
    "print(\"- La desviación estándar indica qué tan dispersos están los precios dentro de cada categoría.\")\n",
    "print(\"- Si una categoría tiene alta desviación estándar, significa que hay productos baratos y caros dentro de ella.\")\n",
    "\n",
    "# Analizar las razones de la alta variabilidad dependiendo de la categoría\n",
    "if categoria_mayor_var == \"Electrónica\":\n",
    "    print(\"- La categoría 'Electrónica' probablemente tiene mayor variabilidad porque incluye productos de bajo costo (auriculares, smartwatch) y productos muy caros (laptops, smartphones).\")\n",
    "elif categoria_mayor_var == \"Ropa\":\n",
    "    print(\"- Si 'Ropa' tiene alta variabilidad, puede deberse a diferencias en el tipo de prenda (una camiseta vs. una chaqueta de marca).\")\n",
    "elif categoria_mayor_var == \"Hogar\":\n",
    "    print(\"- Si 'Hogar' tiene la mayor desviación, podría ser por la diferencia de precios entre pequeños utensilios y muebles costosos.\")"
   ]
  },
  {
   "cell_type": "code",
   "execution_count": null,
   "metadata": {
    "colab": {
     "base_uri": "https://localhost:8080/",
     "height": 664
    },
    "executionInfo": {
     "elapsed": 415,
     "status": "ok",
     "timestamp": 1740503876806,
     "user": {
      "displayName": "Alberto Garcia",
      "userId": "14565765726986632934"
     },
     "user_tz": -60
    },
    "id": "F2pE6HGQMKZr",
    "outputId": "02a00e31-0a8c-4952-b754-4cfdb1a87cba"
   },
   "outputs": [],
   "source": [
    "# EJERCICIO 3: Crea histogramas para visualizar la distribución de precios y valoraciones.\n",
    "# Comenta si estas distribuciones se asemejan a una distribución normal.\n",
    "\n",
    "# Configuración de gráficos\n",
    "plt.figure(figsize=(12, 5))  # Configura el tamaño de la figura para los dos histogramas\n",
    "\n",
    "# Histograma de precios\n",
    "plt.subplot(1, 2, 1)  # Crea el primer subgráfico (1 fila, 2 columnas, subgráfico 1)\n",
    "sns.histplot(df_ventas['precio'], bins=30, kde=True, color='blue')  # Histograma con 30 barras para precios, agregando KDE (Curva de Densidad)\n",
    "plt.title('Distribución de Precios')  # Título del gráfico\n",
    "plt.xlabel('Precio')  # Etiqueta del eje X\n",
    "plt.ylabel('Frecuencia')  # Etiqueta del eje Y\n",
    "\n",
    "# Histograma de valoraciones\n",
    "plt.subplot(1, 2, 2)  # Crea el segundo subgráfico (1 fila, 2 columnas, subgráfico 2)\n",
    "sns.histplot(df_ventas['valoracion'], bins=5, discrete=True, kde=False, color='green')  # Histograma discreto con 5 barras para valoraciones\n",
    "plt.title('Distribución de Valoraciones')  # Título del gráfico\n",
    "plt.xlabel('Valoración')  # Etiqueta del eje X\n",
    "plt.ylabel('Frecuencia')  # Etiqueta del eje Y\n",
    "\n",
    "# Mostrar gráficos\n",
    "plt.tight_layout()  # Ajusta el diseño de los subgráficos para que no se solapen\n",
    "plt.show()  # Muestra los gráficos generados\n",
    "\n",
    "# 📌 Interpretación de la Distribución\n",
    "print(\"\\n📌 Interpretación de los Histogramas:\")\n",
    "\n",
    "# Análisis de la distribución de precios\n",
    "precio_skewness = df_ventas['precio'].skew()  # Calcula el sesgo (asimetría) de la distribución de precios\n",
    "if precio_skewness > 0:  # Si el sesgo es positivo (a la derecha)\n",
    "    print(\"- La distribución de precios está sesgada a la derecha (hay más productos baratos y algunos caros elevan la media).\")\n",
    "elif precio_skewness < 0:  # Si el sesgo es negativo (a la izquierda)\n",
    "    print(\"- La distribución de precios está sesgada a la izquierda (hay más productos caros y algunos baratos bajan la media).\")\n",
    "else:  # Si no hay sesgo, la distribución es simétrica\n",
    "    print(\"- La distribución de precios es simétrica.\")\n",
    "\n",
    "# Análisis de la distribución de valoraciones\n",
    "valoracion_skewness = df_ventas['valoracion'].skew()  # Calcula el sesgo (asimetría) de la distribución de valoraciones\n",
    "if valoracion_skewness > 0:  # Si el sesgo es positivo (a la derecha)\n",
    "    print(\"- La distribución de valoraciones está sesgada a la derecha (la mayoría de los clientes dan valoraciones altas).\")\n",
    "elif valoracion_skewness < 0:  # Si el sesgo es negativo (a la izquierda)\n",
    "    print(\"- La distribución de valoraciones está sesgada a la izquierda (hay muchas valoraciones bajas).\")\n",
    "else:  # Si no hay sesgo, la distribución es equilibrada\n",
    "    print(\"- La distribución de valoraciones es equilibrada.\")\n",
    "\n",
    "# Comparación con una distribución normal\n",
    "print(\"\\n📈 Comparación con una Distribución Normal:\")\n",
    "print(\"- Si la curva del histograma de precios tiene forma de campana, se asemeja a una distribución normal.\")\n",
    "print(\"- La distribución de valoraciones es discreta (valores 1-5), por lo que no será completamente normal, pero si la mayoría de valores son 4 o 5, habrá un sesgo positivo.\")\n"
   ]
  },
  {
   "cell_type": "markdown",
   "metadata": {
    "id": "LhUrY_8FMLo0"
   },
   "source": [
    "## Parte 3: Análisis de Correlación"
   ]
  },
  {
   "cell_type": "code",
   "execution_count": null,
   "metadata": {
    "colab": {
     "base_uri": "https://localhost:8080/",
     "height": 616
    },
    "executionInfo": {
     "elapsed": 284,
     "status": "ok",
     "timestamp": 1740503881077,
     "user": {
      "displayName": "Alberto Garcia",
      "userId": "14565765726986632934"
     },
     "user_tz": -60
    },
    "id": "dvAPlPA0MM_s",
    "outputId": "b1a1ed78-10fd-49ed-bbfa-8d65152bd42c"
   },
   "outputs": [],
   "source": [
    "# EJERCICIO 4: Investiga si existe relación entre el precio y la valoración del producto.\n",
    "# Calcula la correlación y crea un gráfico de dispersión.\n",
    "\n",
    "# Calcular la correlación entre precio y valoración\n",
    "correlacion = df_ventas['precio'].corr(df_ventas['valoracion'])\n",
    "\n",
    "# Mostrar la correlación calculada en la consola\n",
    "print(\"\\n📊 Correlación entre Precio y Valoración:\", correlacion)\n",
    "\n",
    "# Crear un gráfico de dispersión para visualizar la relación entre precio y valoración\n",
    "plt.figure(figsize=(8, 6))  # Define el tamaño de la figura\n",
    "sns.scatterplot(x='precio', y='valoracion', data=df_ventas, color='purple')  # Dibuja el gráfico de dispersión\n",
    "plt.title('Relación entre Precio y Valoración')  # Título del gráfico\n",
    "plt.xlabel('Precio')  # Etiqueta del eje X (Precio)\n",
    "plt.ylabel('Valoración')  # Etiqueta del eje Y (Valoración)\n",
    "plt.show()  # Muestra el gráfico generado\n",
    "\n",
    "# Interpretación de la correlación\n",
    "# Dependiendo del valor de la correlación, damos una interpretación de la relación entre precio y valoración\n",
    "if correlacion > 0:  # Correlación positiva\n",
    "    print(\"- Existe una correlación positiva entre precio y valoración: a medida que aumenta el precio, las valoraciones tienden a ser más altas.\")\n",
    "elif correlacion < 0:  # Correlación negativa\n",
    "    print(\"- Existe una correlación negativa entre precio y valoración: a medida que aumenta el precio, las valoraciones tienden a ser más bajas.\")\n",
    "else:  # No hay correlación\n",
    "    print(\"- No existe una correlación significativa entre precio y valoración.\")"
   ]
  },
  {
   "cell_type": "markdown",
   "metadata": {
    "id": "L-20MfeKMPlR"
   },
   "source": [
    "## Parte 4: Análisis de Distribución Normal y Z-scores"
   ]
  },
  {
   "cell_type": "code",
   "execution_count": null,
   "metadata": {
    "colab": {
     "base_uri": "https://localhost:8080/",
     "height": 901
    },
    "executionInfo": {
     "elapsed": 337,
     "status": "ok",
     "timestamp": 1740502986654,
     "user": {
      "displayName": "Alberto Garcia",
      "userId": "14565765726986632934"
     },
     "user_tz": -60
    },
    "id": "zwZuVByGMRuX",
    "outputId": "a715fdd6-98f5-4890-b086-d6e48f185889"
   },
   "outputs": [],
   "source": [
    "# EJERCICIO 5: Identificar transacciones atípicas en los totales de ventas.\n",
    "# Calcular los Z-scores y filtrar las transacciones atípicas (|Z| > 2).\n",
    "# Visualizar la distribución de los totales de ventas y marcar los valores atípicos.\n",
    " \n",
    "from scipy.stats import zscore\n",
    "\n",
    "# a) Calcular la media y desviación estándar de la columna 'total'\n",
    "# La media y desviación estándar son estadísticas descriptivas que nos dan una idea del comportamiento central y la dispersión de los totales de ventas.\n",
    "media_total = df_ventas['total'].mean()  # Media de los totales de ventas\n",
    "desviacion_total = df_ventas['total'].std()  # Desviación estándar de los totales de ventas\n",
    "\n",
    "print(\"\\n📊 Media de los Totales de Ventas:\", media_total)\n",
    "print(\"📊 Desviación Estándar de los Totales de Ventas:\", desviacion_total)\n",
    "\n",
    "# b) Calcular los Z-scores para cada valor de la columna 'total'\n",
    "# El Z-score nos indica cuántas desviaciones estándar se encuentra un valor respecto a la media.\n",
    "df_ventas['z_score_total'] = zscore(df_ventas['total'])  # Calcula los Z-scores para cada valor en la columna 'total'\n",
    "\n",
    "# c) Identificar transacciones atípicas (|Z| > 2)\n",
    "# Un Z-score mayor a 2 o menor a -2 generalmente se considera fuera de lo normal (transacción atípica).\n",
    "transacciones_atipicas = df_ventas[np.abs(df_ventas['z_score_total']) > 2]  # Filtra los valores atípicos\n",
    "\n",
    "print(\"\\n📊 Transacciones Atípicas (|Z| > 2):\")\n",
    "# Muestra las transacciones que tienen Z-scores fuera de lo común\n",
    "print(transacciones_atipicas[['fecha', 'producto', 'total', 'z_score_total']])\n",
    "\n",
    "# d) Visualizar la distribución de los totales de ventas y marcar los valores atípicos\n",
    "# Este paso nos permite ver gráficamente cómo se distribuyen los totales de ventas y qué valores son atípicos.\n",
    "\n",
    "plt.figure(figsize=(10, 6))  # Configura el tamaño de la figura\n",
    "\n",
    "# Histograma de totales de ventas con una curva de densidad\n",
    "sns.histplot(df_ventas['total'], bins=30, kde=True, color='blue')  # Histograma con una curva KDE (Kernel Density Estimate)\n",
    "plt.title('Distribución de Totales de Ventas')  # Título del gráfico\n",
    "plt.xlabel('Total de Venta')  # Etiqueta del eje X\n",
    "plt.ylabel('Frecuencia')  # Etiqueta del eje Y\n",
    "\n",
    "# Marcar los valores atípicos en el gráfico\n",
    "# Los valores atípicos se marcan con puntos rojos en el gráfico\n",
    "plt.scatter(transacciones_atipicas['total'],\n",
    "            np.zeros(len(transacciones_atipicas)),  # Los puntos se colocan en el eje Y en 0 para destacarlos\n",
    "            color='red', label='Valores Atípicos', zorder=5)  # zorder=5 asegura que los puntos rojos estén por encima de la distribución\n",
    "\n",
    "plt.legend()  # Muestra la leyenda para identificar los puntos atípicos\n",
    "plt.show()  # Muestra el gráfico"
   ]
  },
  {
   "cell_type": "markdown",
   "metadata": {
    "id": "0kX6RNdBMTiu"
   },
   "source": [
    "## Parte 5: Probabilidades e Intervalos de Confianza"
   ]
  },
  {
   "cell_type": "code",
   "execution_count": null,
   "metadata": {
    "colab": {
     "base_uri": "https://localhost:8080/"
    },
    "executionInfo": {
     "elapsed": 43,
     "status": "ok",
     "timestamp": 1740503960642,
     "user": {
      "displayName": "Alberto Garcia",
      "userId": "14565765726986632934"
     },
     "user_tz": -60
    },
    "id": "ajBRjc-HMcLy",
    "outputId": "a5bf5bd6-e684-480b-b74d-e402daf2cf26"
   },
   "outputs": [],
   "source": [
    "# EJERCICIO 6: Calcular la probabilidad de que una venta supere los 200€, el valor de venta que solo supera el 10% de las transacciones,\n",
    "# y el intervalo de confianza del 95% para el total medio de ventas.\n",
    "\n",
    "from scipy.stats import norm\n",
    "\n",
    "# a) Probabilidad de que una venta supere los X€\n",
    "# Elegimos un valor X de 200€\n",
    "X = 200\n",
    "# Se calcula la probabilidad de que una venta sea mayor a 200€, usando la distribución normal\n",
    "# norm.cdf(X, loc=media_total, scale=desviacion_total) devuelve la probabilidad acumulada hasta X\n",
    "# Restando este valor a 1 obtenemos la probabilidad de que la venta supere los X€\n",
    "probabilidad = 1 - norm.cdf(X, loc=media_total, scale=desviacion_total)\n",
    "\n",
    "# Imprimimos el resultado\n",
    "print(f\"\\n📊 Probabilidad de que una venta supere {X}€: {probabilidad:.4f}\")\n",
    "\n",
    "# b) Valor de venta que solo supera el 10% de las transacciones\n",
    "# Utilizamos el percentil 90 para encontrar el valor que solo supera el 10% de las transacciones,\n",
    "# lo que corresponde al valor a partir del cual el 10% de las ventas son mayores.\n",
    "percentil_10 = norm.ppf(0.90, loc=media_total, scale=desviacion_total)\n",
    "\n",
    "# Imprimimos el valor calculado\n",
    "print(f\"\\n📊 Valor de venta que solo supera el 10% de las transacciones: {percentil_10:.2f}€\")\n",
    "\n",
    "# c) Intervalo de confianza del 95% para el total medio de ventas\n",
    "# Calculamos el Z-valor correspondiente al 95% de confianza (Z=1.96, aproximadamente)\n",
    "z_95 = norm.ppf(0.975)  # Z-valor para el 95% de confianza\n",
    "\n",
    "# Calculamos el margen de error utilizando la fórmula del intervalo de confianza para la media\n",
    "# El margen de error se obtiene multiplicando el Z-valor por la desviación estándar y dividiendo por la raíz cuadrada del tamaño de la muestra.\n",
    "margen_error = z_95 * desviacion_total / np.sqrt(len(df_ventas))\n",
    "\n",
    "# Calculamos el intervalo de confianza sumando y restando el margen de error a la media\n",
    "intervalo_confianza = (media_total - margen_error, media_total + margen_error)\n",
    "\n",
    "# Imprimimos el intervalo de confianza con los valores calculados\n",
    "print(f\"\\n📊 Intervalo de confianza del 95% para el total medio de ventas: ({intervalo_confianza[0]:.2f}€, {intervalo_confianza[1]:.2f}€)\")"
   ]
  },
  {
   "cell_type": "markdown",
   "metadata": {
    "id": "8IRdwCLOMeMq"
   },
   "source": [
    "## Parte 6: Análisis Temporal y Estacionalidad"
   ]
  },
  {
   "cell_type": "code",
   "execution_count": null,
   "metadata": {
    "colab": {
     "base_uri": "https://localhost:8080/",
     "height": 1000
    },
    "executionInfo": {
     "elapsed": 488,
     "status": "ok",
     "timestamp": 1740504002076,
     "user": {
      "displayName": "Alberto Garcia",
      "userId": "14565765726986632934"
     },
     "user_tz": -60
    },
    "id": "sZEhKUyyMfgM",
    "outputId": "2cc0efd4-53ff-4b4f-c676-d4264c15aa29"
   },
   "outputs": [],
   "source": [
    "# EJERCICIO 7: Analiza las ventas totales por día:\n",
    "# a) Crea una nueva tabla agrupando las ventas por fecha\n",
    "# b) Visualiza la evolución temporal\n",
    "# c) Calcula estadísticas descriptivas para las ventas diarias\n",
    "# d) ¿Observas algún patrón semanal? (pista: utiliza df.groupby(df['fecha'].dt.dayofweek))\n",
    "\n",
    "# a) Crear una nueva tabla agrupando las ventas por fecha\n",
    "# Agrupamos los datos por la columna 'fecha' y sumamos las ventas totales de cada día\n",
    "ventas_diarias = df_ventas.groupby('fecha')['total'].sum().reset_index()\n",
    "\n",
    "# b) Visualizar la evolución temporal de las ventas\n",
    "# Configuramos el tamaño de la figura para la gráfica\n",
    "plt.figure(figsize=(12, 6))\n",
    "# Graficamos las ventas diarias con un marcador en cada punto para mejor visualización\n",
    "plt.plot(ventas_diarias['fecha'], ventas_diarias['total'], color='blue', marker='o')\n",
    "# Títulos y etiquetas de los ejes\n",
    "plt.title('Evolución Temporal de las Ventas Diarias')\n",
    "plt.xlabel('Fecha')\n",
    "plt.ylabel('Total de Ventas')\n",
    "# Rotamos las fechas para mejorar la legibilidad\n",
    "plt.xticks(rotation=45)\n",
    "# Añadimos una cuadrícula a la gráfica para mejorar su claridad\n",
    "plt.grid(True)\n",
    "# Mostramos la gráfica\n",
    "plt.show()\n",
    "\n",
    "# c) Calcular estadísticas descriptivas para las ventas diarias\n",
    "# Usamos el método describe() para obtener estadísticas como la media, la desviación estándar, el mínimo, etc.\n",
    "print(\"\\n📊 Estadísticas descriptivas de las ventas diarias:\")\n",
    "print(ventas_diarias['total'].describe())\n",
    "\n",
    "# d) Observar patrones semanales utilizando el día de la semana\n",
    "# Extraemos el día de la semana de la columna 'fecha' (0 = lunes, 6 = domingo)\n",
    "ventas_diarias['dia_semana'] = ventas_diarias['fecha'].dt.dayofweek\n",
    "\n",
    "# Agrupar por día de la semana y calcular las ventas promedio para cada uno\n",
    "ventas_semanales = ventas_diarias.groupby('dia_semana')['total'].mean()\n",
    "\n",
    "# Mostrar las ventas promedio por día de la semana\n",
    "print(\"\\n📊 Ventas promedio por día de la semana:\")\n",
    "print(ventas_semanales)\n",
    "\n",
    "# Visualización de las ventas promedio por día de la semana\n",
    "# Configuramos el tamaño de la figura para la gráfica\n",
    "plt.figure(figsize=(8, 6))\n",
    "# Usamos un gráfico de barras para visualizar las ventas promedio por día de la semana\n",
    "sns.barplot(x=ventas_semanales.index, y=ventas_semanales.values, palette='viridis')\n",
    "# Títulos y etiquetas de los ejes\n",
    "plt.title('Ventas Promedio por Día de la Semana')\n",
    "plt.xlabel('Día de la Semana')\n",
    "plt.ylabel('Ventas Promedio')\n",
    "# Añadimos etiquetas personalizadas a los días de la semana\n",
    "plt.xticks(ticks=np.arange(7), labels=['Lunes', 'Martes', 'Miércoles', 'Jueves', 'Viernes', 'Sábado', 'Domingo'])\n",
    "# Mostramos la gráfica\n",
    "plt.show()"
   ]
  },
  {
   "cell_type": "markdown",
   "metadata": {
    "id": "-46sBSTxMg0x"
   },
   "source": [
    "## Parte 7: Segmentación de Clientes"
   ]
  },
  {
   "cell_type": "code",
   "execution_count": null,
   "metadata": {
    "colab": {
     "base_uri": "https://localhost:8080/",
     "height": 1000
    },
    "executionInfo": {
     "elapsed": 180,
     "status": "ok",
     "timestamp": 1740504182611,
     "user": {
      "displayName": "Alberto Garcia",
      "userId": "14565765726986632934"
     },
     "user_tz": -60
    },
    "id": "qYJyAdNcMidr",
    "outputId": "6209b10d-3ddc-4fcc-e0c7-ae0a8bfa5f9c"
   },
   "outputs": [],
   "source": [
    "# EJERCICIO 8: Analiza el comportamiento de compra de los clientes:\n",
    "# a) Calcula el gasto total y número de compras por cliente\n",
    "# b) Utilizando Z-scores, identifica a los clientes VIP (alto valor)\n",
    "# c) Segmenta a los clientes en grupos (bajo, medio, alto) según su gasto\n",
    "# d) Visualiza la distribución de clientes por segmento\n",
    "\n",
    "# a) Calcular el gasto total y número de compras por cliente\n",
    "# Agrupamos por cliente para calcular el gasto total y el número de compras\n",
    "gasto_cliente = df_ventas.groupby('cliente_id').agg(\n",
    "    gasto_total=('total', 'sum'),  # Sumar el total gastado por cada cliente\n",
    "    num_compras=('total', 'count')  # Contar el número de compras por cliente\n",
    ").reset_index()\n",
    "\n",
    "# b) Identificar a los clientes VIP utilizando Z-scores\n",
    "# Calculamos el Z-score para el gasto total de cada cliente\n",
    "gasto_cliente['z_score'] = zscore(gasto_cliente['gasto_total'])\n",
    "\n",
    "# Definimos como VIP a aquellos clientes cuyo Z-score sea mayor a 2 (por encima de 2 desviaciones estándar)\n",
    "gasto_cliente['VIP'] = gasto_cliente['z_score'] > 2\n",
    "\n",
    "# c) Segmentar a los clientes en grupos (bajo, medio, alto) según su gasto\n",
    "# Usamos percentiles para dividir a los clientes en tres grupos según su gasto total\n",
    "gasto_cliente['segmento'] = pd.qcut(gasto_cliente['gasto_total'], q=3, labels=['Bajo', 'Medio', 'Alto'])\n",
    "\n",
    "# d) Visualizar la distribución de clientes por segmento\n",
    "# Graficamos la distribución de los clientes en cada segmento (bajo, medio, alto)\n",
    "plt.figure(figsize=(10, 6))\n",
    "sns.countplot(x='segmento', data=gasto_cliente, palette='Set2')\n",
    "plt.title('Distribución de Clientes por Segmento de Gasto')\n",
    "plt.xlabel('Segmento de Gasto')\n",
    "plt.ylabel('Número de Clientes')\n",
    "plt.show()\n",
    "\n",
    "# Mostrar información adicional sobre los clientes VIP y los segmentos\n",
    "print(\"Clientes VIP:\")\n",
    "print(gasto_cliente[gasto_cliente['VIP'] == True])\n",
    "\n",
    "print(\"\\nSegmentación de Clientes:\")\n",
    "print(gasto_cliente[['cliente_id', 'gasto_total', 'segmento']].head())"
   ]
  },
  {
   "cell_type": "markdown",
   "metadata": {
    "id": "BERFgjz-MnXl"
   },
   "source": [
    "## Parte 8: Informe de Resultados"
   ]
  },
  {
   "cell_type": "code",
   "execution_count": null,
   "metadata": {
    "colab": {
     "base_uri": "https://localhost:8080/",
     "height": 1000
    },
    "executionInfo": {
     "elapsed": 190,
     "status": "ok",
     "timestamp": 1740504044165,
     "user": {
      "displayName": "Alberto Garcia",
      "userId": "14565765726986632934"
     },
     "user_tz": -60
    },
    "id": "UTfjDeU2Mph1",
    "outputId": "4251e06f-0958-47aa-ab73-cdd4549efc04"
   },
   "outputs": [],
   "source": [
    "# EJERCICIO 9: Prepara un resumen con los hallazgos más importantes de tu análisis.\n",
    "# Incluye al menos 3 conclusiones basadas en tus cálculos estadísticos que serían\n",
    "# relevantes para la toma de decisiones del negocio.\n",
    "\n",
    "# a) Calcular el gasto total y número de compras por cliente\n",
    "comportamiento_clientes = df_ventas.groupby('cliente_id').agg(\n",
    "    gasto_total=('total', 'sum'),  # Calcula el gasto total por cliente sumando las compras\n",
    "    num_compras=('total', 'count')  # Cuenta el número de compras por cliente\n",
    ").reset_index()  # Resetea el índice para tener un dataframe plano\n",
    "\n",
    "# b) Identificar a los clientes VIP (alto valor) utilizando Z-scores en el gasto total\n",
    "# El Z-score mide cuán lejos está un dato de la media, en términos de desviaciones estándar\n",
    "comportamiento_clientes['z_score_gasto'] = zscore(comportamiento_clientes['gasto_total'])\n",
    "\n",
    "# Consideramos como clientes VIP aquellos con un Z-score > 2 (es decir, aquellos cuyo gasto está más allá de 2 desviaciones estándar)\n",
    "clientes_vip = comportamiento_clientes[comportamiento_clientes['z_score_gasto'] > 2]\n",
    "\n",
    "# Mostrar los clientes VIP con su gasto total y Z-score\n",
    "print(\"\\n📊 Clientes VIP (Z-score > 2):\")\n",
    "print(clientes_vip[['cliente_id', 'gasto_total', 'z_score_gasto']])\n",
    "\n",
    "# c) Segmentar a los clientes en grupos (bajo, medio, alto) según su gasto total\n",
    "# Definir los umbrales para cada segmento basado en los percentiles (tercio bajo, medio y alto)\n",
    "bajo_percentil = comportamiento_clientes['gasto_total'].quantile(0.33)  # Umbral para el 33% inferior (bajo)\n",
    "alto_percentil = comportamiento_clientes['gasto_total'].quantile(0.66)  # Umbral para el 66% superior (alto)\n",
    "\n",
    "# Crear una nueva columna 'segmento' que clasifique a los clientes en tres segmentos: bajo, medio y alto\n",
    "comportamiento_clientes['segmento'] = np.where(\n",
    "    comportamiento_clientes['gasto_total'] <= bajo_percentil, 'Bajo',  # Los clientes cuyo gasto es menor o igual al percentil bajo\n",
    "    np.where(comportamiento_clientes['gasto_total'] <= alto_percentil, 'Medio', 'Alto')  # Los clientes entre los percentiles medio y alto\n",
    ")\n",
    "\n",
    "# d) Visualizar la distribución de clientes por segmento\n",
    "plt.figure(figsize=(8, 6))  # Establecer el tamaño de la figura\n",
    "sns.countplot(data=comportamiento_clientes, x='segmento', palette='Set2')  # Crear un gráfico de barras con los segmentos de clientes\n",
    "plt.title('Distribución de Clientes por Segmento de Gasto')  # Título del gráfico\n",
    "plt.xlabel('Segmento')  # Etiqueta en el eje X\n",
    "plt.ylabel('Número de Clientes')  # Etiqueta en el eje Y\n",
    "plt.show()  # Mostrar el gráfico"
   ]
  },
  {
   "cell_type": "markdown",
   "metadata": {
    "id": "aLPQnJJGM0UQ"
   },
   "source": [
    "## Parte 9: Desafío Adicional (Opcional)"
   ]
  },
  {
   "cell_type": "code",
   "execution_count": null,
   "metadata": {
    "colab": {
     "base_uri": "https://localhost:8080/",
     "height": 562
    },
    "executionInfo": {
     "elapsed": 830,
     "status": "ok",
     "timestamp": 1740504085206,
     "user": {
      "displayName": "Alberto Garcia",
      "userId": "14565765726986632934"
     },
     "user_tz": -60
    },
    "id": "_64tZ9NDM121",
    "outputId": "439ddf3c-3d33-4178-c83e-ab0bc3c5b5af"
   },
   "outputs": [],
   "source": [
    "from itertools import combinations\n",
    "\n",
    "# a) Encontrar qué productos suelen comprarse juntos (agrupando por cliente_id y fecha)\n",
    "# Agrupamos los datos por 'cliente_id' y 'fecha' para obtener los productos que cada cliente compró en cada transacción\n",
    "productos_comprados = df_ventas.groupby(['cliente_id', 'fecha'])['producto'].apply(list).reset_index()\n",
    "\n",
    "# Creamos una lista para almacenar las combinaciones de productos que fueron comprados juntos\n",
    "producto_combinaciones = []\n",
    "# Iteramos sobre cada transacción (fila del DataFrame) y generamos todas las combinaciones posibles de 2 productos\n",
    "for _, row in productos_comprados.iterrows():\n",
    "    combinaciones = combinations(row['producto'], 2)  # Generamos combinaciones de 2 productos\n",
    "    producto_combinaciones.extend(combinaciones)  # Añadimos las combinaciones a la lista\n",
    "\n",
    "# Convertimos la lista de combinaciones en un DataFrame para poder analizarla fácilmente\n",
    "combinaciones_df = pd.DataFrame(producto_combinaciones, columns=['producto_A', 'producto_B'])\n",
    "\n",
    "# b) Calcular las probabilidades condicionales: P(compra producto B | compró producto A)\n",
    "# Contamos cuántas veces se ha dado cada combinación de productos\n",
    "combinaciones_contadas = combinaciones_df.groupby(['producto_A', 'producto_B']).size().reset_index(name='count')\n",
    "\n",
    "# Calculamos la probabilidad condicional P(B|A) = P(A y B) / P(A)\n",
    "# Primero, obtenemos cuántas veces se ha comprado cada producto A en total\n",
    "producto_A_count = combinaciones_df.groupby('producto_A').size().reset_index(name='count_A')\n",
    "\n",
    "# Fusionamos ambos DataFrames (combinaciones_contadas y producto_A_count) para calcular la probabilidad condicional\n",
    "probabilidades = pd.merge(combinaciones_contadas, producto_A_count, on='producto_A')\n",
    "# Calculamos la probabilidad condicional dividiendo el número de veces que A y B se compraron juntos entre el número de veces que A se compró\n",
    "probabilidades['probabilidad_condicional'] = probabilidades['count'] / probabilidades['count_A']\n",
    "\n",
    "# c) Visualizar las relaciones más fuertes entre productos\n",
    "# Seleccionamos las 10 combinaciones con las probabilidades condicionales más altas\n",
    "top_probabilidades = probabilidades.sort_values(by='probabilidad_condicional', ascending=False).head(10)\n",
    "\n",
    "# Creamos un gráfico de barras para visualizar las combinaciones de productos con mayor probabilidad condicional\n",
    "plt.figure(figsize=(12, 6))\n",
    "sns.barplot(x='probabilidad_condicional', y='producto_A', data=top_probabilidades, hue='producto_B', palette='viridis')\n",
    "# Añadimos título y etiquetas al gráfico\n",
    "plt.title('Top 10 Combinaciones de Productos con Mayor Probabilidad Condicional')\n",
    "plt.xlabel('Probabilidad Condicional P(B|A)')\n",
    "plt.ylabel('Producto A')\n",
    "plt.legend(title='Producto B')\n",
    "# Mostramos el gráfico\n",
    "plt.show()"
   ]
  },
  {
   "cell_type": "code",
   "execution_count": null,
   "metadata": {
    "id": "Ipr2bdr7E9PP"
   },
   "outputs": [],
   "source": []
  }
 ],
 "metadata": {
  "colab": {
   "provenance": []
  },
  "kernelspec": {
   "display_name": "Python 3",
   "name": "python3"
  },
  "language_info": {
   "codemirror_mode": {
    "name": "ipython",
    "version": 3
   },
   "file_extension": ".py",
   "mimetype": "text/x-python",
   "name": "python",
   "nbconvert_exporter": "python",
   "pygments_lexer": "ipython3",
   "version": "3.13.2"
  }
 },
 "nbformat": 4,
 "nbformat_minor": 0
}
