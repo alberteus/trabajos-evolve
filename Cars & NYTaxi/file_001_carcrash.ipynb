{
 "cells": [
  {
   "cell_type": "code",
   "execution_count": null,
   "metadata": {},
   "outputs": [],
   "source": [
    "import pandas as pd\n",
    "import matplotlib.pyplot as plt\n",
    "\n",
    "file_path = 'CRdataset.csv'\n",
    "df = pd.read_csv(file_path, delimiter=';')\n",
    "\n",
    "print(\"\\nFirst 5 rows:\")\n",
    "print(df.head())\n",
    "\n",
    "print(\"\\Column names:\")\n",
    "print(df.columns)\n",
    "\n",
    "print(\"\\nData types:\")\n",
    "print(df.dtypes)\n",
    "\n",
    "print(\"\\nNumber of rows and columns:\")\n",
    "print(df.shape)"
   ]
  },
  {
   "cell_type": "code",
   "execution_count": null,
   "metadata": {},
   "outputs": [],
   "source": [
    "print(\"\\nValores nulos por columna:\")\n",
    "print(df.isnull().sum())\n",
    "\n",
    "print(\"\\nNúmero de filas de marca Ford:\")\n",
    "print(df[df['Marca']=='ford'].shape[0])"
   ]
  },
  {
   "cell_type": "code",
   "execution_count": 89,
   "metadata": {},
   "outputs": [],
   "source": [
    "df.dropna(subset=[\"Kilometros\"], inplace=True) # Eliminar filas con valores nulos"
   ]
  },
  {
   "cell_type": "code",
   "execution_count": null,
   "metadata": {},
   "outputs": [],
   "source": [
    "print(\"\\nNumber of rows and columns without KM nulls:\")\n",
    "print(df.shape) "
   ]
  },
  {
   "cell_type": "code",
   "execution_count": null,
   "metadata": {},
   "outputs": [],
   "source": [
    "df[\"Modelo\"] = df[\"Modelo\"].fillna(\"No disponible\") # Rellenar valores nulos en la columna Modelo\n",
    "\n",
    "print(\"\\nValores nulos por columna:\")\n",
    "print(df.isnull().sum())\n",
    "print(df.shape)\n"
   ]
  },
  {
   "cell_type": "code",
   "execution_count": null,
   "metadata": {},
   "outputs": [],
   "source": [
    "df[\"Precio Corregido\"] = df[\"Precio\"].fillna(df[\"Precio\"].mean()) # Rellenar valores nulos en la columna Precio con la media\n",
    "print(\"\\nValores nulos por columna:\")\n",
    "print(df.isnull().sum())\n",
    "print(df.shape)"
   ]
  },
  {
   "cell_type": "code",
   "execution_count": null,
   "metadata": {},
   "outputs": [],
   "source": [
    "print(\"\\nValore duplicados:\")\n",
    "print(df.duplicated().sum())\n",
    "\n",
    "df = df.drop_duplicates() # Eliminar filas duplicadas\n",
    "print (df.shape)"
   ]
  },
  {
   "cell_type": "code",
   "execution_count": null,
   "metadata": {},
   "outputs": [],
   "source": [
    "df[\"Kilometros_numero\"] = df[\"Kilometros\"].str.replace(\".\",\"\") # Convertir la columna Kilometros a numérica\n",
    "df[\"Kilometros_numero\"] = pd.to_numeric(df[\"Kilometros_numero\"], errors=\"coerce\")\n",
    "\n",
    "print(df.dtypes)"
   ]
  },
  {
   "cell_type": "code",
   "execution_count": null,
   "metadata": {},
   "outputs": [],
   "source": [
    "df[\"Fabricacion_corregida\"] = pd.to_datetime(df[\"Fabricacion\"], format = \"%b-%y\", errors='coerce') # Convertir la columna Fabricacion a fecha\n",
    "\n",
    "print(\"\\nFirst 5 rows:\")\n",
    "print(df.head(1))"
   ]
  },
  {
   "cell_type": "code",
   "execution_count": null,
   "metadata": {},
   "outputs": [],
   "source": [
    "df[\"Kw\"] = df[\"Potencia\"].str.extract(r'(\\d+) KW')[0].astype(float) # Extraer los KW de la columna Potencia\n",
    "df[\"CV\"] = df[\"Potencia\"].str.extract(r'(\\d+) CV')[0].astype(float) # Extraer los KW de la columna Potencia\n",
    "\n",
    "print(\"\\nFirst 5 rows:\")\n",
    "print(df.head(1))"
   ]
  },
  {
   "cell_type": "code",
   "execution_count": null,
   "metadata": {},
   "outputs": [],
   "source": [
    "\n",
    "df['Anio'] = df['Fabricacion_corregida'].dt.year # extraer el año\n",
    "\n",
    "\n",
    "df_2024 = df[df['Anio'] == 2024] # filtrar por el año 2024\n",
    "\n",
    "\n",
    "df_2024['Marca'].value_counts().plot(kind='bar') # gráfico de barras\n",
    "\n",
    "\n",
    "plt.title('Cantidad de coches por marca en 2024')\n",
    "\n",
    "\n",
    "plt.show()"
   ]
  },
  {
   "cell_type": "code",
   "execution_count": 98,
   "metadata": {},
   "outputs": [],
   "source": [
    "new_file_path = \"CRdataset_limpio.csv\"\n",
    "df.to_csv(new_file_path, index=False) # Guardar el dataset limpio en un nuevo archivo CSV"
   ]
  },
  {
   "cell_type": "code",
   "execution_count": null,
   "metadata": {},
   "outputs": [],
   "source": [
    "print(df.head())"
   ]
  },
  {
   "cell_type": "code",
   "execution_count": 100,
   "metadata": {},
   "outputs": [],
   "source": [
    "df['Fabricacion'] = df['Fabricacion'].str.replace('ene', 'jan')\n",
    "\n",
    "df['Fabricacion'] = df['Fabricacion'].str.replace('feb', 'feb')\n",
    "\n",
    "df['Fabricacion'] = df['Fabricacion'].str.replace('mar', 'mar')\n",
    "\n",
    "df['Fabricacion'] = df['Fabricacion'].str.replace('abr', 'apr')\n",
    "\n",
    "df['Fabricacion'] = df['Fabricacion'].str.replace('may', 'may')\n",
    "\n",
    "df['Fabricacion'] = df['Fabricacion'].str.replace('jun', 'jun')\n",
    "\n",
    "df['Fabricacion'] = df['Fabricacion'].str.replace('jul', 'jul')\n",
    "\n",
    "df['Fabricacion'] = df['Fabricacion'].str.replace('ago', 'aug')\n",
    "\n",
    "df['Fabricacion'] = df['Fabricacion'].str.replace('sep', 'sep')\n",
    "\n",
    "df['Fabricacion'] = df['Fabricacion'].str.replace('oct', 'oct')\n",
    "\n",
    "df['Fabricacion'] = df['Fabricacion'].str.replace('nov', 'nov')\n",
    "\n",
    "df['Fabricacion'] = df['Fabricacion'].str.replace('dic', 'dec')"
   ]
  },
  {
   "cell_type": "code",
   "execution_count": null,
   "metadata": {},
   "outputs": [],
   "source": [
    "print(df.head())"
   ]
  },
  {
   "cell_type": "code",
   "execution_count": null,
   "metadata": {},
   "outputs": [],
   "source": []
  }
 ],
 "metadata": {
  "kernelspec": {
   "display_name": "Project_003-WaO4_ncx",
   "language": "python",
   "name": "python3"
  },
  "language_info": {
   "codemirror_mode": {
    "name": "ipython",
    "version": 3
   },
   "file_extension": ".py",
   "mimetype": "text/x-python",
   "name": "python",
   "nbconvert_exporter": "python",
   "pygments_lexer": "ipython3",
   "version": "3.13.1"
  }
 },
 "nbformat": 4,
 "nbformat_minor": 2
}
